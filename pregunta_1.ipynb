{
  "nbformat": 4,
  "nbformat_minor": 0,
  "metadata": {
    "colab": {
      "name": "pregunta_1.ipynb",
      "provenance": [],
      "authorship_tag": "ABX9TyOilhpYrTcbTLhC9ueaNvO3",
      "include_colab_link": true
    },
    "kernelspec": {
      "name": "python3",
      "display_name": "Python 3"
    },
    "language_info": {
      "name": "python"
    }
  },
  "cells": [
    {
      "cell_type": "markdown",
      "metadata": {
        "id": "view-in-github",
        "colab_type": "text"
      },
      "source": [
        "<a href=\"https://colab.research.google.com/github/maximo261199/Practicas-de-Complejidad-Algoritmica/blob/main/pregunta_1.ipynb\" target=\"_parent\"><img src=\"https://colab.research.google.com/assets/colab-badge.svg\" alt=\"Open In Colab\"/></a>"
      ]
    },
    {
      "cell_type": "code",
      "execution_count": 3,
      "metadata": {
        "colab": {
          "base_uri": "https://localhost:8080/"
        },
        "id": "0OLU9f1Qe7jM",
        "outputId": "b4f08217-5b98-417e-b38f-635f39fdc001"
      },
      "outputs": [
        {
          "output_type": "stream",
          "name": "stdout",
          "text": [
            "Writing calle1\n"
          ]
        }
      ],
      "source": [
        "%%file calle1\n",
        "2\n",
        "2 3\n",
        "0 1 10\n",
        "0 1 20\n",
        "0 0 30\n",
        "4 5\n",
        "0 1 1\n",
        "3 1 2\n",
        "1 2 3\n",
        "2 3 4\n",
        "0 2 5"
      ]
    },
    {
      "cell_type": "code",
      "source": [
        "import heapq as pq\n",
        "import math"
      ],
      "metadata": {
        "id": "A4uDi3pogcvi"
      },
      "execution_count": 4,
      "outputs": []
    },
    {
      "cell_type": "code",
      "source": [
        "class DisjoinSet:\n",
        "  def __init__(self, n):\n",
        "    self.s = [-1]*n\n",
        "\n",
        "  def find(self, v):\n",
        "    if self.s[v] < 0:\n",
        "      return v\n",
        "    p = self.find(self.s[v])\n",
        "    self.s[v] = p\n",
        "    return p\n",
        "\n",
        "\n",
        "  def union(self, a, b):\n",
        "    A = self.find(a)\n",
        "    B = self.find(b)\n",
        "    if A != B:\n",
        "      if self.s[A] < self.s[B]:\n",
        "        self.s[A] += self.s[B]\n",
        "        self.s[B] = A\n",
        "      else:\n",
        "        self.s[B] += self.s[A]\n",
        "        self.s[B] = A\n",
        "\n",
        "  def same(self, a, b):\n",
        "    return self.find(a) == self.find(b)"
      ],
      "metadata": {
        "id": "6vXf4gyWgfkf"
      },
      "execution_count": 16,
      "outputs": []
    },
    {
      "cell_type": "code",
      "source": [
        "def kruska(G):\n",
        "  n = len(G)\n",
        "  edges = []\n",
        "  disj = DisjoinSet(n)\n",
        "  for u in range(n):\n",
        "    for v, w in G[u]:\n",
        "      pq.heappush(edges, (w, u, v))\n",
        "  pq._heapify_max(edges)\n",
        " \n",
        "  p = []\n",
        "  while edges and n > 0:\n",
        "    w, u, v = pq._heappop_max(edges)\n",
        "    if not disj.same(u, v):\n",
        "      disj.union(u, v)\n",
        "      p.append((u, v, w))\n",
        "      n -= 1\n",
        "  return p"
      ],
      "metadata": {
        "id": "WCH2Qp5gi46D"
      },
      "execution_count": 17,
      "outputs": []
    },
    {
      "cell_type": "code",
      "source": [
        "def input():\n",
        "  with open(\"calle1\",\"r\") as file:\n",
        "    cases = int(file.readline().strip())\n",
        "    for i in range(cases):\n",
        "      n, m = list(map(int,file.readline().strip().split()))\n",
        "      graph = [[] for _ in range(n)]\n",
        "      for _ in range(m):\n",
        "        v, u ,c = list(map(int,file.readline().strip().split()))\n",
        "        if v == u:\n",
        "          graph[v].append((u,c))\n",
        "          continue\n",
        "        graph[v].append((u,c))\n",
        "        graph[u].append((v,c))\n",
        "      T = kruska(graph)\n",
        "      mini = math.inf\n",
        "      for _, _ , w in T:\n",
        "          if w < mini:\n",
        "              mini = w\n",
        "      print(f\"Caso \" + str(i+1) + \": \" + str(mini))\n"
      ],
      "metadata": {
        "id": "R49aO8lNlLjn"
      },
      "execution_count": 18,
      "outputs": []
    },
    {
      "cell_type": "code",
      "source": [
        "input()"
      ],
      "metadata": {
        "colab": {
          "base_uri": "https://localhost:8080/"
        },
        "id": "s3B4IaafliSV",
        "outputId": "aa73d32f-b199-4db6-9f81-b2b7bb2b052a"
      },
      "execution_count": 19,
      "outputs": [
        {
          "output_type": "stream",
          "name": "stdout",
          "text": [
            "Caso 1: 20\n",
            "Caso 2: 3\n"
          ]
        }
      ]
    }
  ]
}